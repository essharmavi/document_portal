{
 "cells": [
  {
   "cell_type": "code",
   "execution_count": null,
   "id": "61f766c8",
   "metadata": {},
   "outputs": [
    {
     "name": "stdout",
     "output_type": "stream",
     "text": [
      "Log file path: /Users/vishalsharma/Downloads/document_portal/notebooks/logs/07-27-2025_16-16-47.log\n"
     ]
    }
   ],
   "source": [
    "import sys\n",
    "import traceback\n",
    "from logger.custom_logger import CustomLogger\n",
    "\n",
    "logger = CustomLogger().get_logger(\"Exception_Logger\") # Initialize the custom logger\n",
    "\n",
    "class DocumentPortalException(Exception):\n",
    "    \"\"\"Base class for all exceptions in the Document Portal application.\"\"\"\n",
    "    def __init__(self, error_exception: str, error_details: sys):\n",
    "        _,_,exc_tb = error_details.exc_info() # Get the traceback details\n",
    "        self.file_name = exc_tb.tb_frame.f_code.co_filename # Get the file name where the exception occurred`\n",
    "        self.line_number = exc_tb.tb_lineno # Get the line number where the exception occurred\n",
    "        self.error_message = str(error_exception) # Convert the exception to a string for logging\n",
    "        self.traceback_str = ''.join(traceback.format_exception(*error_details.exc_info())) # Format the traceback for better readability\n",
    "\n",
    "    def __str__(self):\n",
    "        return f\"Error occurred in file {self.file_name} at line {self.line_number}: {self.error_message}\\nTraceback:\\n{self.traceback_str}\"    \n",
    "\n",
    "\n",
    "if __name__ == \"__main__\":\n",
    "\n",
    "    try:\n",
    "        a = 1/0\n",
    "    except Exception as e:\n",
    "        app_exception = DocumentPortalException(e, sys) # Create an instance of DocumentPortalException with the caught exception\n",
    "        logger.error(app_exception) #  Log the exception using the custom logger"
   ]
  },
  {
   "cell_type": "code",
   "execution_count": null,
   "id": "54ee861f",
   "metadata": {},
   "outputs": [],
   "source": []
  },
  {
   "cell_type": "code",
   "execution_count": null,
   "id": "13122d98",
   "metadata": {},
   "outputs": [],
   "source": []
  }
 ],
 "metadata": {
  "kernelspec": {
   "display_name": "Python 3",
   "language": "python",
   "name": "python3"
  },
  "language_info": {
   "codemirror_mode": {
    "name": "ipython",
    "version": 3
   },
   "file_extension": ".py",
   "mimetype": "text/x-python",
   "name": "python",
   "nbconvert_exporter": "python",
   "pygments_lexer": "ipython3",
   "version": "3.10.18"
  }
 },
 "nbformat": 4,
 "nbformat_minor": 5
}
