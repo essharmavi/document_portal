{
 "cells": [
  {
   "cell_type": "code",
   "execution_count": null,
   "id": "11209753",
   "metadata": {},
   "outputs": [],
   "source": [
    "from datetime import datetime\n",
    "import logging\n",
    "import os\n",
    "\n",
    "path = os.path.join(os.getcwd(), 'logs') # Ensure the logs directory exists\n",
    "os.makedirs(path, exist_ok=True) # Create the logs directory if it doesn't exist\n",
    "\n",
    "log_file = f\"{datetime.now().strftime('%m-%d-%Y_%H-%M-%S')}.log\" # Create a log file name with the current date and time\n",
    "log_file_path = os.path.join(path, log_file) # Full path for the log file\n",
    "# Configure logging to write to the log file\n",
    "logging.basicConfig(\n",
    "    filename=log_file_path, # Log file path\n",
    "    format='[%(asctime)s] - %(levelname)s- %(name)s - (line: %(lineno)d) %(message)s', # Log format giving timestamp, level, name, line number, and message\n",
    "    level=logging.INFO # Set the logging level to INFO\n",
    ")\n",
    "\n",
    "logging.getLogger(\"Document Portal\").info(\"Logging setup complete.\") # Log a message indicating that the logging setup is complete"
   ]
  },
  {
   "cell_type": "code",
   "execution_count": null,
   "id": "77b65ec5",
   "metadata": {},
   "outputs": [],
   "source": []
  }
 ],
 "metadata": {
  "kernelspec": {
   "display_name": "Python 3",
   "language": "python",
   "name": "python3"
  },
  "language_info": {
   "codemirror_mode": {
    "name": "ipython",
    "version": 3
   },
   "file_extension": ".py",
   "mimetype": "text/x-python",
   "name": "python",
   "nbconvert_exporter": "python",
   "pygments_lexer": "ipython3",
   "version": "3.10.18"
  }
 },
 "nbformat": 4,
 "nbformat_minor": 5
}
